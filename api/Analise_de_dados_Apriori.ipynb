{
  "cells": [
    {
      "cell_type": "markdown",
      "metadata": {
        "id": "6hFkpYO5aUcE"
      },
      "source": [
        "#PROJETO IEDAR_TCC#"
      ]
    },
    {
      "cell_type": "markdown",
      "metadata": {
        "id": "A8wOUZCSahMW"
      },
      "source": [
        "##Importando bibliotecas##"
      ]
    },
    {
      "cell_type": "code",
      "execution_count": null,
      "metadata": {
        "id": "o_8heMJpRF_r"
      },
      "outputs": [],
      "source": [
        "import numpy as np\n",
        "import pandas as pd\n",
        "from mlxtend.frequent_patterns import apriori\n",
        "from mlxtend.frequent_patterns import association_rules"
      ]
    },
    {
      "cell_type": "markdown",
      "metadata": {
        "id": "RQvqZeD7ammV"
      },
      "source": [
        "##Importando a base de dados##"
      ]
    },
    {
      "cell_type": "code",
      "execution_count": null,
      "metadata": {
        "colab": {
          "base_uri": "https://localhost:8080/",
          "height": 341
        },
        "id": "3msFUPdfUUvn",
        "outputId": "24c754c8-231f-4ca4-fa59-0b0ad358d390"
      },
      "outputs": [],
      "source": [
        "df = pd.read_excel(\"compras.xltx\")\n",
        "df.head()"
      ]
    },
    {
      "cell_type": "markdown",
      "metadata": {
        "id": "6QTsF582a2y0"
      },
      "source": [
        "##Limpando a base de dados##"
      ]
    },
    {
      "cell_type": "code",
      "execution_count": null,
      "metadata": {
        "colab": {
          "base_uri": "https://localhost:8080/"
        },
        "id": "L8WVwm8Ka-vH",
        "outputId": "5e81e591-548f-4fa4-ee42-a2bfa260c6b3"
      },
      "outputs": [],
      "source": [
        "df.info()"
      ]
    },
    {
      "cell_type": "code",
      "execution_count": null,
      "metadata": {
        "colab": {
          "base_uri": "https://localhost:8080/"
        },
        "id": "nGsQ2phMbIyL",
        "outputId": "980512c2-9c46-414a-c52a-33569232550a"
      },
      "outputs": [],
      "source": [
        "df.isnull().sum()"
      ]
    },
    {
      "cell_type": "markdown",
      "metadata": {
        "id": "eoxrTAvbbi50"
      },
      "source": [
        "###Tratando os dados da coluna 'Sexo'###"
      ]
    },
    {
      "cell_type": "code",
      "execution_count": null,
      "metadata": {
        "colab": {
          "base_uri": "https://localhost:8080/",
          "height": 175
        },
        "id": "ckJVinT_bxoy",
        "outputId": "61f7a9d4-66a4-4d04-8d65-5e9281bd342d"
      },
      "outputs": [],
      "source": [
        "df.loc[df['Sexo'].isnull()]"
      ]
    },
    {
      "cell_type": "code",
      "execution_count": null,
      "metadata": {
        "id": "IQ7ROiZNb98S"
      },
      "outputs": [],
      "source": [
        "df[['Sexo']].mode()"
      ]
    },
    {
      "cell_type": "code",
      "execution_count": null,
      "metadata": {
        "id": "HPRht1CXcNnS"
      },
      "outputs": [],
      "source": [
        "pd.crosstab(df['Sexo'], df['CodCliente'], margins=True).head()"
      ]
    },
    {
      "cell_type": "code",
      "execution_count": null,
      "metadata": {
        "id": "lbTL4F3OcVJB"
      },
      "outputs": [],
      "source": [
        "(23350/25836)*100"
      ]
    },
    {
      "cell_type": "code",
      "execution_count": null,
      "metadata": {
        "id": "SqH8ipaMcgY5"
      },
      "outputs": [],
      "source": [
        "df['Sexo'].fillna('FEMININO', inplace=True)"
      ]
    },
    {
      "cell_type": "code",
      "execution_count": null,
      "metadata": {
        "id": "XW4xsMMvcw3Y"
      },
      "outputs": [],
      "source": [
        "df.isnull().sum()"
      ]
    },
    {
      "cell_type": "markdown",
      "metadata": {
        "id": "_zkR_vLSc152"
      },
      "source": [
        "###Tratando os dados da coluna 'Idade'###"
      ]
    },
    {
      "cell_type": "code",
      "execution_count": null,
      "metadata": {
        "colab": {
          "base_uri": "https://localhost:8080/",
          "height": 1000
        },
        "id": "jh8G2Q2_dEpQ",
        "outputId": "35504e07-8817-42db-b7bf-c1e59f29a5b3"
      },
      "outputs": [],
      "source": [
        "df.loc[df['Idade'].isnull()]"
      ]
    },
    {
      "cell_type": "code",
      "execution_count": null,
      "metadata": {
        "colab": {
          "base_uri": "https://localhost:8080/"
        },
        "id": "H9jiBhTsdQPE",
        "outputId": "98ed7a9c-a53b-45cd-f55b-5ef19e11c937"
      },
      "outputs": [],
      "source": [
        "df['Idade'].median()"
      ]
    },
    {
      "cell_type": "code",
      "execution_count": null,
      "metadata": {
        "colab": {
          "base_uri": "https://localhost:8080/"
        },
        "id": "sLSLmuu2dSuE",
        "outputId": "da7f4945-fc08-447a-96bd-49a23af33ed8"
      },
      "outputs": [],
      "source": [
        "df['Idade'].mode()"
      ]
    },
    {
      "cell_type": "code",
      "execution_count": null,
      "metadata": {
        "id": "_Fng3wKadZjs"
      },
      "outputs": [],
      "source": [
        "df['Idade'].fillna(32, inplace=True)"
      ]
    },
    {
      "cell_type": "code",
      "execution_count": null,
      "metadata": {
        "colab": {
          "base_uri": "https://localhost:8080/"
        },
        "id": "3FWtRKbpdgro",
        "outputId": "69690f3e-fa5b-4344-863b-2618b6ced407"
      },
      "outputs": [],
      "source": [
        "df.isnull().sum()"
      ]
    },
    {
      "cell_type": "markdown",
      "metadata": {
        "id": "yIoFc-O1dkUP"
      },
      "source": [
        "###Tratando outros dados###"
      ]
    },
    {
      "cell_type": "code",
      "execution_count": null,
      "metadata": {
        "colab": {
          "base_uri": "https://localhost:8080/",
          "height": 175
        },
        "id": "zc37-kDddrYx",
        "outputId": "7608c366-1473-4295-f991-499657106bc0"
      },
      "outputs": [],
      "source": [
        "df.loc[df['VlrTotal'].isnull()]"
      ]
    },
    {
      "cell_type": "code",
      "execution_count": null,
      "metadata": {
        "colab": {
          "base_uri": "https://localhost:8080/",
          "height": 175
        },
        "id": "fIWEgE3td15H",
        "outputId": "61754350-6b82-4069-903d-34a04c5ed617"
      },
      "outputs": [],
      "source": [
        "df.drop(21690, inplace=True)"
      ]
    },
    {
      "cell_type": "code",
      "execution_count": null,
      "metadata": {
        "id": "ZmeG_kISjqHR"
      },
      "outputs": [],
      "source": [
        "df.isnull().sum()"
      ]
    },
    {
      "cell_type": "markdown",
      "metadata": {
        "id": "QfU8uZhGeTTn"
      },
      "source": [
        "#Aplicando o Apriori#"
      ]
    },
    {
      "cell_type": "code",
      "execution_count": null,
      "metadata": {
        "colab": {
          "background_save": true
        },
        "id": "bclZW1o_oKl7"
      },
      "outputs": [],
      "source": [
        "df['Data'] = pd.to_datetime(df['Data'])"
      ]
    },
    {
      "cell_type": "code",
      "execution_count": null,
      "metadata": {
        "colab": {
          "background_save": true
        },
        "id": "7aNoP02Aw8YE"
      },
      "outputs": [],
      "source": [
        "basket = (df.groupby(['Data', 'Descricao Produto'])['VlrTotal'].sum().unstack().reset_index().fillna(0).set_index('Data'))\n",
        "basket.head()"
      ]
    },
    {
      "cell_type": "code",
      "execution_count": null,
      "metadata": {
        "colab": {
          "background_save": true
        },
        "id": "8XWpx0mj0F3r"
      },
      "outputs": [],
      "source": [
        "#Cria uma matriz binária para os itens vendidos em cada data\n",
        "def encoder (x):\n",
        "  if x <= 0:\n",
        "    return 0\n",
        "  else:\n",
        "    return 1\n",
        "\n",
        "basket = basket.applymap(encoder)\n",
        "basket.head()"
      ]
    },
    {
      "cell_type": "code",
      "execution_count": null,
      "metadata": {
        "colab": {
          "background_save": true,
          "base_uri": "https://localhost:8080/"
        },
        "id": "fP7eKKAg0rKZ",
        "outputId": "6a98926b-e3b8-4169-d3e1-71d251d7baf0"
      },
      "outputs": [],
      "source": [
        "basket.shape"
      ]
    },
    {
      "cell_type": "code",
      "execution_count": null,
      "metadata": {
        "id": "_DoBm1P71Dg8"
      },
      "outputs": [],
      "source": [
        "items_together = apriori(basket, min_support=0.02, use_colnames=True)\n",
        "items_together.sort_values(by=['support'], ascending=False)\n",
        "items_together"
      ]
    },
    {
      "cell_type": "code",
      "execution_count": null,
      "metadata": {
        "colab": {
          "background_save": true
        },
        "id": "ITMdVSWVFbE9"
      },
      "outputs": [],
      "source": [
        "print(len(items_together))"
      ]
    },
    {
      "cell_type": "code",
      "execution_count": null,
      "metadata": {
        "colab": {
          "background_save": true
        },
        "id": "8Ou2doZg4sKr"
      },
      "outputs": [],
      "source": [
        "rules = association_rules(items_together, metric=\"confidence\", min_threshold=0.04)"
      ]
    },
    {
      "cell_type": "code",
      "execution_count": null,
      "metadata": {
        "colab": {
          "background_save": true
        },
        "id": "aaBO18Bu5EB4"
      },
      "outputs": [],
      "source": [
        "rules.head()"
      ]
    },
    {
      "cell_type": "code",
      "execution_count": null,
      "metadata": {
        "colab": {
          "background_save": true
        },
        "id": "9UsGo09qB-c1"
      },
      "outputs": [],
      "source": [
        "print(len(rules))"
      ]
    },
    {
      "cell_type": "code",
      "execution_count": null,
      "metadata": {
        "colab": {
          "background_save": true
        },
        "id": "j2EsPaECDs4V"
      },
      "outputs": [],
      "source": [
        "rules"
      ]
    }
  ],
  "metadata": {
    "colab": {
      "provenance": []
    },
    "kernelspec": {
      "display_name": "Python 3",
      "name": "python3"
    },
    "language_info": {
      "codemirror_mode": {
        "name": "ipython",
        "version": 3
      },
      "file_extension": ".py",
      "mimetype": "text/x-python",
      "name": "python",
      "nbconvert_exporter": "python",
      "pygments_lexer": "ipython3",
      "version": "3.9.13"
    }
  },
  "nbformat": 4,
  "nbformat_minor": 0
}
